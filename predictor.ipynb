{
 "cells": [
  {
   "cell_type": "code",
   "execution_count": 1,
   "metadata": {},
   "outputs": [],
   "source": [
    "import numpy as np\n",
    "import pandas as pd\n",
    "import pickle as pk\n",
    "data = pd.read_csv('data/tcd ml 2019-20 income prediction test (without labels).csv')\n",
    "\n",
    "# source: https://data.worldbank.org/indicator/NY.GDP.MKTP.CD\n",
    "# The top rows were removed to aid in parsing\n",
    "gdp = pd.read_csv('data/API_NY.GDP.MKTP.CD_DS2_en_csv_v2_180634.csv', skiprows=[0, 1, 2, 3])"
   ]
  },
  {
   "cell_type": "markdown",
   "metadata": {},
   "source": [
    "# Prepare data for ml algorithm"
   ]
  },
  {
   "cell_type": "code",
   "execution_count": 17,
   "metadata": {},
   "outputs": [],
   "source": [
    "def clean_country(country):\n",
    "    try:\n",
    "        return {\n",
    "            'Laos': 'Lao PDR',\n",
    "            'Kyrgyzstan': 'Kyrgyz Republic',\n",
    "            'Slovakia': 'Slovak Republic',\n",
    "            'Congo': 'Congo, Rep.',\n",
    "            'DR Congo': 'Congo, Dem. Rep.',\n",
    "            # Nothing political intended here, trying to be realistic about income\n",
    "            'State of Palestine': 'Jordan',\n",
    "            'Syria': 'Syrian Arab Republic',\n",
    "            'Gambia': 'Gambia, The',\n",
    "            'North Korea': 'Korea, Dem. People’s Rep.',\n",
    "            'South Korea': 'Korea, Rep.',\n",
    "            'Côte d\\'Ivoire': 'Cote d\\'Ivoire',\n",
    "            'Venezuela': 'Venezuela, RB',\n",
    "            'Yemen': 'Yemen, Rep.',\n",
    "            'Brunei': 'Brunei Darussalam',\n",
    "            'Micronesia': 'Micronesia, Fed. Sts.',\n",
    "            'Bahamas': 'Bahamas, The',\n",
    "            'Saint Lucia': 'St. Lucia',\n",
    "            'Czechia': 'Czech Republic',\n",
    "            'Sao Tome & Principe': 'Sao Tome and Principe',\n",
    "        }[country]\n",
    "    except KeyError:\n",
    "        return country\n",
    "\n",
    "def get_index_equiv(year):\n",
    "    return year - 1956"
   ]
  },
  {
   "cell_type": "code",
   "execution_count": 18,
   "metadata": {},
   "outputs": [
    {
     "name": "stderr",
     "output_type": "stream",
     "text": [
      "/usr/local/anaconda3/envs/ml/lib/python3.6/site-packages/ipykernel_launcher.py:37: FutureWarning: `item` has been deprecated and will be removed in a future version\n"
     ]
    }
   ],
   "source": [
    "from sklearn.preprocessing import LabelBinarizer\n",
    "data = pd.read_csv('data/tcd ml 2019-20 income prediction test (without labels).csv')\n",
    "gdp = pd.read_csv('data/API_NY.GDP.MKTP.CD_DS2_en_csv_v2_180634.csv', skiprows=[0, 1, 2, 3])\n",
    "\n",
    "data = data.fillna(value=0)\n",
    "\n",
    "## 'Instance'\n",
    "instances = data.loc[:, 'Instance']\n",
    "data = data.drop(labels='Instance', axis=1)\n",
    "\n",
    "## 'Year of Record'\n",
    "# nothing to do here\n",
    "\n",
    "## 'Gender'\n",
    "data = data.replace(to_replace={'Gender': {\n",
    "        'male': 1,\n",
    "        'female': -1,\n",
    "        'other': 0,\n",
    "        'unknown': 0,\n",
    "        '0': 0,\n",
    "        np.nan: 0,\n",
    "}})\n",
    "\n",
    "## 'Age'\n",
    "# nothing to do here\n",
    "\n",
    "## 'Country'\n",
    "# Replace country with its GDP\n",
    "countries = pd.Series.to_dict(data['Country'].value_counts())\n",
    "country_gdp = {'Country': {}}\n",
    "\n",
    "for country in countries:\n",
    "    try:\n",
    "        gdpval = np.nan\n",
    "        year = 2018\n",
    "        while np.isnan(gdpval):\n",
    "            gdpval = gdp.loc[gdp['Country Name'] == clean_country(country)].iloc[:, get_index_equiv(year)].item()\n",
    "            year -= 1\n",
    "            if year < 1960:\n",
    "                if country == 'North Korea':\n",
    "                    gdpval = float(32000000000) # There isn't World Bank for NK, assume it's USD32 Billion\n",
    "                else:\n",
    "                    raise IndexError('Could not find GDP')\n",
    "        country_gdp['Country'][country] = gdpval\n",
    "    except ValueError:\n",
    "        print('Country Error, check : clean_country() -> ', country)\n",
    "\n",
    "data = data.replace(to_replace=country_gdp)\n",
    "\n",
    "## 'Size of City'\n",
    "# nothing to do here\n",
    "\n",
    "## 'Profession'\n",
    "# shorten labels\n",
    "jobs = pd.Series.to_dict(data['Profession'].value_counts())\n",
    "new_jobs = {'Profession': {}}\n",
    "\n",
    "for key in jobs:\n",
    "    if jobs[key] > 80:\n",
    "        try:\n",
    "            new_key = key[:4]\n",
    "        except TypeError:\n",
    "            new_key = 'unkn'\n",
    "    else:\n",
    "        new_key = 'unkn'\n",
    "    new_jobs['Profession'][key] = new_key\n",
    "    \n",
    "for key in new_jobs['Profession']:\n",
    "    try:\n",
    "        temp = new_jobs['Profession'][new_jobs['Profession'][key]]\n",
    "        new_jobs['Profession'][key] = 'unkn'\n",
    "    except KeyError:\n",
    "        continue\n",
    "\n",
    "new_jobs = pk.load(open('jobs.pkl', mode='rb'))\n",
    "data = data.replace(to_replace=new_jobs)\n",
    "\n",
    "# one-hot encode \n",
    "\n",
    "jobs_encoder = pk.load(open('jobs_encoder.pkl', mode='rb'))\n",
    "\n",
    "transformed = jobs_encoder.transform(data['Profession'])\n",
    "ohe_df = pd.DataFrame(transformed)\n",
    "data = pd.concat([data, ohe_df], axis=1).drop(['Profession'], axis=1)\n",
    "\n",
    "## 'University Degree'\n",
    "data = data.replace(to_replace={'University Degree': {\n",
    "        '0': 'No',\n",
    "        0: 'No',\n",
    "}})\n",
    "\n",
    "degree_encoder = LabelBinarizer()\n",
    "degree_encoder.fit(data['University Degree'])\n",
    "degree_encoder = pk.load(open('degree_encoder.pkl', mode='rb'))\n",
    "\n",
    "transformed = degree_encoder.transform(data['University Degree'])\n",
    "ohe_df = pd.DataFrame(transformed)\n",
    "data = pd.concat([data, ohe_df], axis=1).drop(['University Degree'], axis=1)\n",
    "\n",
    "## 'Wears Glasses'\n",
    "data = data.drop(labels='Wears Glasses', axis=1)\n",
    "\n",
    "## 'Hair Color'\n",
    "data = data.drop(labels='Hair Color', axis=1)\n",
    "\n",
    "## 'Body Height [cm]'\n",
    "## 'Income in EUR'"
   ]
  },
  {
   "cell_type": "code",
   "execution_count": 19,
   "metadata": {},
   "outputs": [],
   "source": [
    "from sklearn.preprocessing import scale\n",
    "X = data.drop(columns=['Income'])#.to_numpy()"
   ]
  },
  {
   "cell_type": "markdown",
   "metadata": {},
   "source": [
    "# Train algorithm"
   ]
  },
  {
   "cell_type": "code",
   "execution_count": 20,
   "metadata": {},
   "outputs": [],
   "source": [
    "func = pk.load(open('predictor.pkl', mode='rb'))\n",
    "# func.score(X, y)"
   ]
  },
  {
   "cell_type": "code",
   "execution_count": 32,
   "metadata": {},
   "outputs": [],
   "source": [
    "# np.savetxt(\"output.csv\", func.predict(X), delimiter=\",\")\n",
    "ans = func.predict(X)\n",
    "ins = instances.to_numpy()\n",
    "output = []\n",
    "assert(len(ans) == len(ins))\n",
    "for i in range(len(ans)):\n",
    "    output.append([ins[i], ans[i]])\n",
    "# print(output)\n",
    "np.savetxt('output.csv', output, delimiter=',', fmt='%d,%.2f', header='Instance,Income', comments='')"
   ]
  },
  {
   "cell_type": "code",
   "execution_count": null,
   "metadata": {},
   "outputs": [],
   "source": [
    "print(pd.__version__)"
   ]
  },
  {
   "cell_type": "code",
   "execution_count": null,
   "metadata": {},
   "outputs": [],
   "source": []
  },
  {
   "cell_type": "code",
   "execution_count": null,
   "metadata": {},
   "outputs": [],
   "source": []
  }
 ],
 "metadata": {
  "kernelspec": {
   "display_name": "Python [conda env:ml] *",
   "language": "python",
   "name": "conda-env-ml-py"
  },
  "language_info": {
   "codemirror_mode": {
    "name": "ipython",
    "version": 3
   },
   "file_extension": ".py",
   "mimetype": "text/x-python",
   "name": "python",
   "nbconvert_exporter": "python",
   "pygments_lexer": "ipython3",
   "version": "3.6.9"
  }
 },
 "nbformat": 4,
 "nbformat_minor": 2
}
