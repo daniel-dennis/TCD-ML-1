{
 "cells": [
  {
   "cell_type": "code",
   "execution_count": 1,
   "metadata": {},
   "outputs": [],
   "source": [
    "import numpy as np\n",
    "import pandas as pd\n",
    "import pickle as pk\n",
    "data = pd.read_csv('data/tcd ml 2019-20 income prediction training (with labels).csv')"
   ]
  },
  {
   "cell_type": "markdown",
   "metadata": {},
   "source": [
    "# Preview and visualise data"
   ]
  },
  {
   "cell_type": "code",
   "execution_count": 2,
   "metadata": {},
   "outputs": [
    {
     "data": {
      "text/html": [
       "<div>\n",
       "<style scoped>\n",
       "    .dataframe tbody tr th:only-of-type {\n",
       "        vertical-align: middle;\n",
       "    }\n",
       "\n",
       "    .dataframe tbody tr th {\n",
       "        vertical-align: top;\n",
       "    }\n",
       "\n",
       "    .dataframe thead th {\n",
       "        text-align: right;\n",
       "    }\n",
       "</style>\n",
       "<table border=\"1\" class=\"dataframe\">\n",
       "  <thead>\n",
       "    <tr style=\"text-align: right;\">\n",
       "      <th></th>\n",
       "      <th>Instance</th>\n",
       "      <th>Year of Record</th>\n",
       "      <th>Gender</th>\n",
       "      <th>Age</th>\n",
       "      <th>Country</th>\n",
       "      <th>Size of City</th>\n",
       "      <th>Profession</th>\n",
       "      <th>University Degree</th>\n",
       "      <th>Wears Glasses</th>\n",
       "      <th>Hair Color</th>\n",
       "      <th>Body Height [cm]</th>\n",
       "      <th>Income in EUR</th>\n",
       "    </tr>\n",
       "  </thead>\n",
       "  <tbody>\n",
       "    <tr>\n",
       "      <th>0</th>\n",
       "      <td>1</td>\n",
       "      <td>1997.0</td>\n",
       "      <td>0</td>\n",
       "      <td>41.0</td>\n",
       "      <td>Belarus</td>\n",
       "      <td>1239930</td>\n",
       "      <td>steel workers</td>\n",
       "      <td>Bachelor</td>\n",
       "      <td>0</td>\n",
       "      <td>Blond</td>\n",
       "      <td>193</td>\n",
       "      <td>61031.94416</td>\n",
       "    </tr>\n",
       "    <tr>\n",
       "      <th>1</th>\n",
       "      <td>2</td>\n",
       "      <td>1996.0</td>\n",
       "      <td>other</td>\n",
       "      <td>41.0</td>\n",
       "      <td>Singapore</td>\n",
       "      <td>1603504</td>\n",
       "      <td>safe event coordinator</td>\n",
       "      <td>Master</td>\n",
       "      <td>0</td>\n",
       "      <td>Black</td>\n",
       "      <td>186</td>\n",
       "      <td>91001.32764</td>\n",
       "    </tr>\n",
       "    <tr>\n",
       "      <th>2</th>\n",
       "      <td>3</td>\n",
       "      <td>2018.0</td>\n",
       "      <td>other</td>\n",
       "      <td>28.0</td>\n",
       "      <td>Norway</td>\n",
       "      <td>1298017</td>\n",
       "      <td>receivables/payables analyst</td>\n",
       "      <td>PhD</td>\n",
       "      <td>1</td>\n",
       "      <td>Brown</td>\n",
       "      <td>170</td>\n",
       "      <td>157982.17670</td>\n",
       "    </tr>\n",
       "    <tr>\n",
       "      <th>3</th>\n",
       "      <td>4</td>\n",
       "      <td>2006.0</td>\n",
       "      <td>other</td>\n",
       "      <td>33.0</td>\n",
       "      <td>Cuba</td>\n",
       "      <td>751903</td>\n",
       "      <td>fleet assistant</td>\n",
       "      <td>No</td>\n",
       "      <td>1</td>\n",
       "      <td>Black</td>\n",
       "      <td>171</td>\n",
       "      <td>45993.75793</td>\n",
       "    </tr>\n",
       "    <tr>\n",
       "      <th>4</th>\n",
       "      <td>5</td>\n",
       "      <td>2010.0</td>\n",
       "      <td>female</td>\n",
       "      <td>46.0</td>\n",
       "      <td>United Arab Emirates</td>\n",
       "      <td>95389</td>\n",
       "      <td>lead trainer</td>\n",
       "      <td>0</td>\n",
       "      <td>0</td>\n",
       "      <td>Blond</td>\n",
       "      <td>188</td>\n",
       "      <td>38022.16217</td>\n",
       "    </tr>\n",
       "    <tr>\n",
       "      <th>5</th>\n",
       "      <td>6</td>\n",
       "      <td>1991.0</td>\n",
       "      <td>male</td>\n",
       "      <td>60.0</td>\n",
       "      <td>Liberia</td>\n",
       "      <td>56080</td>\n",
       "      <td>senior security analyst</td>\n",
       "      <td>Bachelor</td>\n",
       "      <td>0</td>\n",
       "      <td>Blond</td>\n",
       "      <td>181</td>\n",
       "      <td>125809.99030</td>\n",
       "    </tr>\n",
       "    <tr>\n",
       "      <th>6</th>\n",
       "      <td>7</td>\n",
       "      <td>1982.0</td>\n",
       "      <td>NaN</td>\n",
       "      <td>71.0</td>\n",
       "      <td>State of Palestine</td>\n",
       "      <td>1205185</td>\n",
       "      <td>program associate</td>\n",
       "      <td>Bachelor</td>\n",
       "      <td>0</td>\n",
       "      <td>Black</td>\n",
       "      <td>174</td>\n",
       "      <td>150319.42260</td>\n",
       "    </tr>\n",
       "    <tr>\n",
       "      <th>7</th>\n",
       "      <td>8</td>\n",
       "      <td>2008.0</td>\n",
       "      <td>male</td>\n",
       "      <td>36.0</td>\n",
       "      <td>Israel</td>\n",
       "      <td>31419</td>\n",
       "      <td>retail specialist</td>\n",
       "      <td>NaN</td>\n",
       "      <td>0</td>\n",
       "      <td>Brown</td>\n",
       "      <td>190</td>\n",
       "      <td>11849.02876</td>\n",
       "    </tr>\n",
       "    <tr>\n",
       "      <th>8</th>\n",
       "      <td>9</td>\n",
       "      <td>2015.0</td>\n",
       "      <td>male</td>\n",
       "      <td>43.0</td>\n",
       "      <td>South Sudan</td>\n",
       "      <td>85333</td>\n",
       "      <td>intergovernmental outreach coordinator</td>\n",
       "      <td>No</td>\n",
       "      <td>0</td>\n",
       "      <td>Blond</td>\n",
       "      <td>189</td>\n",
       "      <td>48058.20607</td>\n",
       "    </tr>\n",
       "    <tr>\n",
       "      <th>9</th>\n",
       "      <td>10</td>\n",
       "      <td>2019.0</td>\n",
       "      <td>female</td>\n",
       "      <td>16.0</td>\n",
       "      <td>Cuba</td>\n",
       "      <td>1325383</td>\n",
       "      <td>lease analyst</td>\n",
       "      <td>Bachelor</td>\n",
       "      <td>1</td>\n",
       "      <td>Black</td>\n",
       "      <td>157</td>\n",
       "      <td>90940.68912</td>\n",
       "    </tr>\n",
       "  </tbody>\n",
       "</table>\n",
       "</div>"
      ],
      "text/plain": [
       "   Instance  Year of Record  Gender   Age               Country  Size of City  \\\n",
       "0         1          1997.0       0  41.0               Belarus       1239930   \n",
       "1         2          1996.0   other  41.0             Singapore       1603504   \n",
       "2         3          2018.0   other  28.0                Norway       1298017   \n",
       "3         4          2006.0   other  33.0                  Cuba        751903   \n",
       "4         5          2010.0  female  46.0  United Arab Emirates         95389   \n",
       "5         6          1991.0    male  60.0               Liberia         56080   \n",
       "6         7          1982.0     NaN  71.0    State of Palestine       1205185   \n",
       "7         8          2008.0    male  36.0                Israel         31419   \n",
       "8         9          2015.0    male  43.0           South Sudan         85333   \n",
       "9        10          2019.0  female  16.0                  Cuba       1325383   \n",
       "\n",
       "                               Profession University Degree  Wears Glasses  \\\n",
       "0                           steel workers          Bachelor              0   \n",
       "1                  safe event coordinator            Master              0   \n",
       "2            receivables/payables analyst               PhD              1   \n",
       "3                         fleet assistant                No              1   \n",
       "4                            lead trainer                 0              0   \n",
       "5                 senior security analyst          Bachelor              0   \n",
       "6                       program associate          Bachelor              0   \n",
       "7                       retail specialist               NaN              0   \n",
       "8  intergovernmental outreach coordinator                No              0   \n",
       "9                           lease analyst          Bachelor              1   \n",
       "\n",
       "  Hair Color  Body Height [cm]  Income in EUR  \n",
       "0      Blond               193    61031.94416  \n",
       "1      Black               186    91001.32764  \n",
       "2      Brown               170   157982.17670  \n",
       "3      Black               171    45993.75793  \n",
       "4      Blond               188    38022.16217  \n",
       "5      Blond               181   125809.99030  \n",
       "6      Black               174   150319.42260  \n",
       "7      Brown               190    11849.02876  \n",
       "8      Blond               189    48058.20607  \n",
       "9      Black               157    90940.68912  "
      ]
     },
     "execution_count": 2,
     "metadata": {},
     "output_type": "execute_result"
    }
   ],
   "source": [
    "data.head(10)"
   ]
  },
  {
   "cell_type": "code",
   "execution_count": 3,
   "metadata": {},
   "outputs": [
    {
     "name": "stdout",
     "output_type": "stream",
     "text": [
      "<class 'pandas.core.frame.DataFrame'>\n",
      "RangeIndex: 111993 entries, 0 to 111992\n",
      "Data columns (total 12 columns):\n",
      "Instance             111993 non-null int64\n",
      "Year of Record       111552 non-null float64\n",
      "Gender               104561 non-null object\n",
      "Age                  111499 non-null float64\n",
      "Country              111993 non-null object\n",
      "Size of City         111993 non-null int64\n",
      "Profession           111671 non-null object\n",
      "University Degree    104623 non-null object\n",
      "Wears Glasses        111993 non-null int64\n",
      "Hair Color           104751 non-null object\n",
      "Body Height [cm]     111993 non-null int64\n",
      "Income in EUR        111993 non-null float64\n",
      "dtypes: float64(3), int64(4), object(5)\n",
      "memory usage: 10.3+ MB\n"
     ]
    }
   ],
   "source": [
    "data.info()"
   ]
  },
  {
   "cell_type": "code",
   "execution_count": 4,
   "metadata": {},
   "outputs": [
    {
     "data": {
      "text/plain": [
       "1    56056\n",
       "0    55937\n",
       "Name: Wears Glasses, dtype: int64"
      ]
     },
     "execution_count": 4,
     "metadata": {},
     "output_type": "execute_result"
    }
   ],
   "source": [
    "data['Wears Glasses'].value_counts()"
   ]
  },
  {
   "cell_type": "code",
   "execution_count": 5,
   "metadata": {},
   "outputs": [
    {
     "data": {
      "text/html": [
       "<div>\n",
       "<style scoped>\n",
       "    .dataframe tbody tr th:only-of-type {\n",
       "        vertical-align: middle;\n",
       "    }\n",
       "\n",
       "    .dataframe tbody tr th {\n",
       "        vertical-align: top;\n",
       "    }\n",
       "\n",
       "    .dataframe thead th {\n",
       "        text-align: right;\n",
       "    }\n",
       "</style>\n",
       "<table border=\"1\" class=\"dataframe\">\n",
       "  <thead>\n",
       "    <tr style=\"text-align: right;\">\n",
       "      <th></th>\n",
       "      <th>Instance</th>\n",
       "      <th>Year of Record</th>\n",
       "      <th>Age</th>\n",
       "      <th>Size of City</th>\n",
       "      <th>Wears Glasses</th>\n",
       "      <th>Body Height [cm]</th>\n",
       "      <th>Income in EUR</th>\n",
       "    </tr>\n",
       "  </thead>\n",
       "  <tbody>\n",
       "    <tr>\n",
       "      <th>count</th>\n",
       "      <td>111993.000000</td>\n",
       "      <td>111552.000000</td>\n",
       "      <td>111499.000000</td>\n",
       "      <td>1.119930e+05</td>\n",
       "      <td>111993.000000</td>\n",
       "      <td>111993.000000</td>\n",
       "      <td>1.119930e+05</td>\n",
       "    </tr>\n",
       "    <tr>\n",
       "      <th>mean</th>\n",
       "      <td>55997.000000</td>\n",
       "      <td>1999.421274</td>\n",
       "      <td>37.345304</td>\n",
       "      <td>8.388538e+05</td>\n",
       "      <td>0.500531</td>\n",
       "      <td>175.220192</td>\n",
       "      <td>1.092138e+05</td>\n",
       "    </tr>\n",
       "    <tr>\n",
       "      <th>std</th>\n",
       "      <td>32329.738686</td>\n",
       "      <td>11.576382</td>\n",
       "      <td>16.036694</td>\n",
       "      <td>2.196879e+06</td>\n",
       "      <td>0.500002</td>\n",
       "      <td>19.913889</td>\n",
       "      <td>1.498024e+05</td>\n",
       "    </tr>\n",
       "    <tr>\n",
       "      <th>min</th>\n",
       "      <td>1.000000</td>\n",
       "      <td>1980.000000</td>\n",
       "      <td>14.000000</td>\n",
       "      <td>7.700000e+01</td>\n",
       "      <td>0.000000</td>\n",
       "      <td>94.000000</td>\n",
       "      <td>-5.696906e+03</td>\n",
       "    </tr>\n",
       "    <tr>\n",
       "      <th>25%</th>\n",
       "      <td>27999.000000</td>\n",
       "      <td>1989.000000</td>\n",
       "      <td>24.000000</td>\n",
       "      <td>7.273400e+04</td>\n",
       "      <td>0.000000</td>\n",
       "      <td>160.000000</td>\n",
       "      <td>3.077169e+04</td>\n",
       "    </tr>\n",
       "    <tr>\n",
       "      <th>50%</th>\n",
       "      <td>55997.000000</td>\n",
       "      <td>1999.000000</td>\n",
       "      <td>35.000000</td>\n",
       "      <td>5.060920e+05</td>\n",
       "      <td>1.000000</td>\n",
       "      <td>174.000000</td>\n",
       "      <td>5.733917e+04</td>\n",
       "    </tr>\n",
       "    <tr>\n",
       "      <th>75%</th>\n",
       "      <td>83995.000000</td>\n",
       "      <td>2009.000000</td>\n",
       "      <td>48.000000</td>\n",
       "      <td>1.184501e+06</td>\n",
       "      <td>1.000000</td>\n",
       "      <td>190.000000</td>\n",
       "      <td>1.260936e+05</td>\n",
       "    </tr>\n",
       "    <tr>\n",
       "      <th>max</th>\n",
       "      <td>111993.000000</td>\n",
       "      <td>2019.000000</td>\n",
       "      <td>115.000000</td>\n",
       "      <td>4.999251e+07</td>\n",
       "      <td>1.000000</td>\n",
       "      <td>265.000000</td>\n",
       "      <td>5.285252e+06</td>\n",
       "    </tr>\n",
       "  </tbody>\n",
       "</table>\n",
       "</div>"
      ],
      "text/plain": [
       "            Instance  Year of Record            Age  Size of City  \\\n",
       "count  111993.000000   111552.000000  111499.000000  1.119930e+05   \n",
       "mean    55997.000000     1999.421274      37.345304  8.388538e+05   \n",
       "std     32329.738686       11.576382      16.036694  2.196879e+06   \n",
       "min         1.000000     1980.000000      14.000000  7.700000e+01   \n",
       "25%     27999.000000     1989.000000      24.000000  7.273400e+04   \n",
       "50%     55997.000000     1999.000000      35.000000  5.060920e+05   \n",
       "75%     83995.000000     2009.000000      48.000000  1.184501e+06   \n",
       "max    111993.000000     2019.000000     115.000000  4.999251e+07   \n",
       "\n",
       "       Wears Glasses  Body Height [cm]  Income in EUR  \n",
       "count  111993.000000     111993.000000   1.119930e+05  \n",
       "mean        0.500531        175.220192   1.092138e+05  \n",
       "std         0.500002         19.913889   1.498024e+05  \n",
       "min         0.000000         94.000000  -5.696906e+03  \n",
       "25%         0.000000        160.000000   3.077169e+04  \n",
       "50%         1.000000        174.000000   5.733917e+04  \n",
       "75%         1.000000        190.000000   1.260936e+05  \n",
       "max         1.000000        265.000000   5.285252e+06  "
      ]
     },
     "execution_count": 5,
     "metadata": {},
     "output_type": "execute_result"
    }
   ],
   "source": [
    "data.describe()"
   ]
  },
  {
   "cell_type": "code",
   "execution_count": 6,
   "metadata": {},
   "outputs": [
    {
     "data": {
      "text/plain": [
       "Instance            0.002897\n",
       "Year of Record      0.165116\n",
       "Age                 0.186160\n",
       "Size of City        0.014993\n",
       "Wears Glasses       0.005718\n",
       "Body Height [cm]    0.072889\n",
       "Income in EUR       1.000000\n",
       "Name: Income in EUR, dtype: float64"
      ]
     },
     "execution_count": 6,
     "metadata": {},
     "output_type": "execute_result"
    }
   ],
   "source": [
    "corr_matrix = data.corr()\n",
    "corr_matrix['Income in EUR']"
   ]
  },
  {
   "cell_type": "code",
   "execution_count": 7,
   "metadata": {},
   "outputs": [
    {
     "data": {
      "text/plain": [
       "pipefitter                               261\n",
       "procedural justice coordinator           256\n",
       "production support                       246\n",
       "port marine engineer                     246\n",
       "preplacement nurse practitioner          245\n",
       "                                        ... \n",
       "audit engineer                             1\n",
       "computer aide                              1\n",
       "audit supervisor                           1\n",
       "accessibility outreach coordinator         1\n",
       "assistant business services associate      1\n",
       "Name: Profession, Length: 1340, dtype: int64"
      ]
     },
     "execution_count": 7,
     "metadata": {},
     "output_type": "execute_result"
    }
   ],
   "source": [
    "data = pd.read_csv('data/tcd ml 2019-20 income prediction training (with labels).csv')\n",
    "data['Profession'].value_counts()"
   ]
  },
  {
   "cell_type": "markdown",
   "metadata": {},
   "source": [
    "# Prepare data for ml algorithm"
   ]
  },
  {
   "cell_type": "code",
   "execution_count": 8,
   "metadata": {},
   "outputs": [],
   "source": [
    "data = pd.read_csv('data/tcd ml 2019-20 income prediction training (with labels).csv')\n",
    "data = data.fillna(value=0)\n",
    "\n",
    "## 'Instance'\n",
    "data = data.drop(labels='Instance', axis=1)\n",
    "\n",
    "## 'Year of Record'\n",
    "# nothing to do here\n",
    "\n",
    "## 'Gender'\n",
    "data = data.replace(to_replace={'Gender': {\n",
    "        'male': 1,\n",
    "        'female': -1,\n",
    "        'other': 0,\n",
    "        'unknown': 0,\n",
    "        '0': 0,\n",
    "        np.nan: 0,\n",
    "}})\n",
    "# data['Gender'] = data['Gender'].astype(float)\n",
    "\n",
    "## 'Age'\n",
    "# nothing to do here\n",
    "\n",
    "## 'Country'\n",
    "## 'Size of City'\n",
    "## 'Profession'\n",
    "\n",
    "jobs = pd.Series.to_dict(data['Profession'].value_counts())\n",
    "new_jobs = {'Profession': {}}\n",
    "\n",
    "for key in jobs:\n",
    "    if jobs[key] > 80:\n",
    "        try:\n",
    "            new_key = key[:4]\n",
    "        except TypeError:\n",
    "            new_key = 'unkn'\n",
    "    else:\n",
    "        new_key = 'unkn'\n",
    "    new_jobs['Profession'][key] = new_key\n",
    "    \n",
    "for key in new_jobs['Profession']:\n",
    "    try:\n",
    "        temp = new_jobs['Profession'][new_jobs['Profession'][key]]\n",
    "        new_jobs['Profession'][key] = 'unkn'\n",
    "    except KeyError:\n",
    "        continue\n",
    "\n",
    "# for key in new_jobs['Profession']:\n",
    "#     print(key, '->', new_jobs['Profession'][key], ' * ', type(key))\n",
    "\n",
    "pk.dump(new_jobs, open('jobs.pkl', mode='wb'))\n",
    "data = data.replace(to_replace=new_jobs)\n",
    "data.head()\n",
    "\n",
    "## 'University Degree'\n",
    "data = data.replace(to_replace={'University Degree': {\n",
    "        '0': 'No',\n",
    "}})\n",
    "\n",
    "## 'Wears Glasses'\n",
    "## 'Hair Color'\n",
    "data = data.replace(to_replace={'Hair Color': {\n",
    "        '0': 'Unknown',\n",
    "}})\n",
    "\n",
    "## 'Body Height [cm]'\n",
    "## 'Income in EUR'"
   ]
  },
  {
   "cell_type": "code",
   "execution_count": 9,
   "metadata": {},
   "outputs": [
    {
     "data": {
      "text/plain": [
       "unkn    17907\n",
       "seni    10405\n",
       "prog     2815\n",
       "qual     2170\n",
       "publ     2030\n",
       "        ...  \n",
       "hro        82\n",
       "hous       82\n",
       "spen       82\n",
       "hunt       82\n",
       "impl       81\n",
       "Name: Profession, Length: 227, dtype: int64"
      ]
     },
     "execution_count": 9,
     "metadata": {},
     "output_type": "execute_result"
    }
   ],
   "source": [
    "data['Profession'].value_counts()"
   ]
  },
  {
   "cell_type": "code",
   "execution_count": 10,
   "metadata": {},
   "outputs": [],
   "source": [
    "# data.head(15)"
   ]
  },
  {
   "cell_type": "code",
   "execution_count": 11,
   "metadata": {},
   "outputs": [],
   "source": [
    "data = pd.get_dummies(data, columns=['Country', 'Profession', 'University Degree', 'Hair Color'], sparse=True)\n",
    "data = data.astype(float)"
   ]
  },
  {
   "cell_type": "code",
   "execution_count": 12,
   "metadata": {},
   "outputs": [],
   "source": [
    "# data.info()\n",
    "# corr_matrix = data.corr()\n",
    "# corr_matrix['Income in EUR']"
   ]
  },
  {
   "cell_type": "code",
   "execution_count": 13,
   "metadata": {},
   "outputs": [
    {
     "name": "stderr",
     "output_type": "stream",
     "text": [
      "Intel(R) Data Analytics Acceleration Library (Intel(R) DAAL) solvers for sklearn enabled: https://intelpython.github.io/daal4py/sklearn.html\n"
     ]
    }
   ],
   "source": [
    "from sklearn.preprocessing import scale\n",
    "X = data.drop(columns=['Income in EUR']).to_numpy()\n",
    "y = data.loc[:, 'Income in EUR'].to_numpy()"
   ]
  },
  {
   "cell_type": "code",
   "execution_count": 14,
   "metadata": {},
   "outputs": [],
   "source": [
    "from sklearn.model_selection import train_test_split\n",
    "X_train, X_test, y_train, y_test = train_test_split(X, y, test_size=0.2, random_state=12120)"
   ]
  },
  {
   "cell_type": "markdown",
   "metadata": {},
   "source": [
    "# Train algorithm"
   ]
  },
  {
   "cell_type": "code",
   "execution_count": null,
   "metadata": {},
   "outputs": [
    {
     "name": "stderr",
     "output_type": "stream",
     "text": [
      "/usr/local/anaconda3/envs/ml/lib/python3.6/site-packages/sklearn/ensemble/forest.py:245: FutureWarning: The default value of n_estimators will change from 10 in version 0.20 to 100 in 0.22.\n",
      "  \"10 in version 0.20 to 100 in 0.22.\", FutureWarning)\n"
     ]
    }
   ],
   "source": [
    "from sklearn.linear_model import LinearRegression # N/A\n",
    "from sklearn.tree import DecisionTreeRegressor # 0.5144117272297519\n",
    "from sklearn.ensemble import RandomForestRegressor # 0.6767255620150188\n",
    "from sklearn.neighbors import KNeighborsRegressor # -0.15649302917615013\n",
    "\n",
    "func = RandomForestRegressor()#verbose=True)\n",
    "func.fit(X_train, y_train)\n",
    "func.score(X_test, y_test)"
   ]
  },
  {
   "cell_type": "code",
   "execution_count": null,
   "metadata": {},
   "outputs": [],
   "source": [
    "func.predict(X[:5])"
   ]
  },
  {
   "cell_type": "code",
   "execution_count": null,
   "metadata": {},
   "outputs": [],
   "source": [
    "pk.dump(func, open('dump.pkl', mode='wb'))"
   ]
  },
  {
   "cell_type": "code",
   "execution_count": null,
   "metadata": {},
   "outputs": [],
   "source": []
  }
 ],
 "metadata": {
  "kernelspec": {
   "display_name": "Python [conda env:ml] *",
   "language": "python",
   "name": "conda-env-ml-py"
  },
  "language_info": {
   "codemirror_mode": {
    "name": "ipython",
    "version": 3
   },
   "file_extension": ".py",
   "mimetype": "text/x-python",
   "name": "python",
   "nbconvert_exporter": "python",
   "pygments_lexer": "ipython3",
   "version": "3.6.9"
  }
 },
 "nbformat": 4,
 "nbformat_minor": 2
}
